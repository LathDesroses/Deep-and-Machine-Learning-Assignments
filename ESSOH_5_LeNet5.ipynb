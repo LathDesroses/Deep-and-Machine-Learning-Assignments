{
 "cells": [
  {
   "cell_type": "markdown",
   "id": "8f9ad7ba",
   "metadata": {},
   "source": [
    "# LeNet-5 CNN Architecture in PyTorch\n",
    "\n",
    "\n",
    "# ESSOH Lath"
   ]
  },
  {
   "cell_type": "code",
   "execution_count": 9,
   "id": "34ccd36f",
   "metadata": {
    "tags": []
   },
   "outputs": [],
   "source": [
    "\n",
    "# -*- coding: utf-8 -*-\n",
    "# Deep Learning @ unistra\n",
    "# LeNet-5 CNN architecture\n",
    "\n",
    "import torch\n",
    "import torch.nn as nn\n",
    "import torchvision.transforms as transforms\n",
    "import torchvision\n",
    "import matplotlib.pyplot as plt\n",
    "import matplotlib.pyplot as plt\n",
    "from PIL import Image\n",
    "\n",
    "# Device configuration\n",
    "device = torch.device('cuda' if torch.cuda.is_available() else 'cpu')\n",
    "\n",
    "# Set the hyper-parameters of the network\n",
    "num_epochs = 5\n",
    "num_classes = 10\n",
    "batch_size = 100\n",
    "learning_rate = 0.001"
   ]
  },
  {
   "cell_type": "code",
   "execution_count": 13,
   "id": "0bf3883a-d0fe-4448-88c6-3684bafc687b",
   "metadata": {
    "tags": []
   },
   "outputs": [
    {
     "name": "stdout",
     "output_type": "stream",
     "text": [
      "Downloading http://yann.lecun.com/exdb/mnist/train-images-idx3-ubyte.gz\n",
      "Failed to download (trying next):\n",
      "HTTP Error 403: Forbidden\n",
      "\n",
      "Downloading https://ossci-datasets.s3.amazonaws.com/mnist/train-images-idx3-ubyte.gz\n",
      "Downloading https://ossci-datasets.s3.amazonaws.com/mnist/train-images-idx3-ubyte.gz to data/MNIST/raw/train-images-idx3-ubyte.gz\n"
     ]
    },
    {
     "name": "stderr",
     "output_type": "stream",
     "text": [
      "100%|██████████| 9912422/9912422 [00:07<00:00, 1406585.37it/s]\n"
     ]
    },
    {
     "name": "stdout",
     "output_type": "stream",
     "text": [
      "Extracting data/MNIST/raw/train-images-idx3-ubyte.gz to data/MNIST/raw\n",
      "\n",
      "Downloading http://yann.lecun.com/exdb/mnist/train-labels-idx1-ubyte.gz\n",
      "Failed to download (trying next):\n",
      "HTTP Error 403: Forbidden\n",
      "\n",
      "Downloading https://ossci-datasets.s3.amazonaws.com/mnist/train-labels-idx1-ubyte.gz\n",
      "Downloading https://ossci-datasets.s3.amazonaws.com/mnist/train-labels-idx1-ubyte.gz to data/MNIST/raw/train-labels-idx1-ubyte.gz\n"
     ]
    },
    {
     "name": "stderr",
     "output_type": "stream",
     "text": [
      "100%|██████████| 28881/28881 [00:00<00:00, 328701.47it/s]\n"
     ]
    },
    {
     "name": "stdout",
     "output_type": "stream",
     "text": [
      "Extracting data/MNIST/raw/train-labels-idx1-ubyte.gz to data/MNIST/raw\n",
      "\n",
      "Downloading http://yann.lecun.com/exdb/mnist/t10k-images-idx3-ubyte.gz\n",
      "Failed to download (trying next):\n",
      "HTTP Error 403: Forbidden\n",
      "\n",
      "Downloading https://ossci-datasets.s3.amazonaws.com/mnist/t10k-images-idx3-ubyte.gz\n",
      "Downloading https://ossci-datasets.s3.amazonaws.com/mnist/t10k-images-idx3-ubyte.gz to data/MNIST/raw/t10k-images-idx3-ubyte.gz\n"
     ]
    },
    {
     "name": "stderr",
     "output_type": "stream",
     "text": [
      "100%|██████████| 1648877/1648877 [00:01<00:00, 1249232.34it/s]\n"
     ]
    },
    {
     "name": "stdout",
     "output_type": "stream",
     "text": [
      "Extracting data/MNIST/raw/t10k-images-idx3-ubyte.gz to data/MNIST/raw\n",
      "\n",
      "Downloading http://yann.lecun.com/exdb/mnist/t10k-labels-idx1-ubyte.gz\n",
      "Failed to download (trying next):\n",
      "HTTP Error 403: Forbidden\n",
      "\n",
      "Downloading https://ossci-datasets.s3.amazonaws.com/mnist/t10k-labels-idx1-ubyte.gz\n",
      "Downloading https://ossci-datasets.s3.amazonaws.com/mnist/t10k-labels-idx1-ubyte.gz to data/MNIST/raw/t10k-labels-idx1-ubyte.gz\n"
     ]
    },
    {
     "name": "stderr",
     "output_type": "stream",
     "text": [
      "100%|██████████| 4542/4542 [00:00<00:00, 944872.97it/s]\n"
     ]
    },
    {
     "name": "stdout",
     "output_type": "stream",
     "text": [
      "Extracting data/MNIST/raw/t10k-labels-idx1-ubyte.gz to data/MNIST/raw\n",
      "\n"
     ]
    }
   ],
   "source": [
    "# Load MNIST dataset\n",
    "train_dataset = torchvision.datasets.MNIST(root='data/',\n",
    "                                           train=True,\n",
    "                                           transform=transforms.ToTensor(),\n",
    "                                           download=True)\n",
    "\n",
    "\n",
    "test_dataset = torchvision.datasets.MNIST(root='data/',\n",
    "                                          train=False,\n",
    "                                          transform=transforms.ToTensor())"
   ]
  },
  {
   "cell_type": "code",
   "execution_count": 18,
   "id": "9b4ee438-031d-4fdc-a6be-a44e7040cb3c",
   "metadata": {
    "tags": []
   },
   "outputs": [],
   "source": [
    "# Wrap into the data loader\n",
    "train_loader = torch.utils.data.DataLoader(dataset=train_dataset,\n",
    "                                           batch_size=batch_size,\n",
    "                                           shuffle=True)\n",
    " \n",
    "test_loader = torch.utils.data.DataLoader(dataset=test_dataset,\n",
    "                                          batch_size=batch_size,\n",
    "                                          shuffle=False)"
   ]
  },
  {
   "cell_type": "code",
   "execution_count": 23,
   "id": "591b0d26-6b8d-413e-b272-3ac8e65ae3e5",
   "metadata": {
    "tags": []
   },
   "outputs": [
    {
     "data": {
      "image/png": "[encoded data removed]",
      "text/plain": [
       "<Figure size 640x480 with 1 Axes>"
      ]
     },
     "metadata": {},
     "output_type": "display_data"
    },
    {
     "data": {
      "image/png": "[encoded data removed]",
      "text/plain": [
       "<Figure size 640x480 with 1 Axes>"
      ]
     },
     "metadata": {},
     "output_type": "display_data"
    }
   ],
   "source": [
    "# Afficher une image et son étiquette pour le jeu de données d'entraînement\n",
    "sample_image, sample_label = next(iter(train_dataset))\n",
    "plt.imshow(sample_image.squeeze(0), cmap='gray')\n",
    "plt.title(f\"Training Image Label: {sample_label}\")\n",
    "plt.show()\n",
    "\n",
    "# Afficher une image et son étiquette pour le jeu de données de test\n",
    "sample_image, sample_label = next(iter(test_dataset))\n",
    "plt.imshow(sample_image.squeeze(0), cmap='gray')\n",
    "plt.title(f\"Test Image Label: {sample_label}\")\n",
    "plt.show()"
   ]
  },
  {
   "cell_type": "code",
   "execution_count": 26,
   "id": "0fc1b1e0",
   "metadata": {
    "tags": []
   },
   "outputs": [],
   "source": [
    "\n",
    "# Define LeNet-5 Architecture\n",
    "class LeNet5(nn.Module):\n",
    "    def __init__(self, num_classes=10):\n",
    "        super(LeNet5, self).__init__()\n",
    "        self.c1 = nn.Sequential(\n",
    "            nn.Conv2d(1, 6, kernel_size=5, padding=2),\n",
    "            nn.ReLU(),\n",
    "            nn.MaxPool2d(kernel_size=2, stride=2)\n",
    "        )\n",
    "        self.c3 = nn.Sequential(\n",
    "            nn.Conv2d(6, 16, kernel_size=5),\n",
    "            nn.ReLU(),\n",
    "            nn.MaxPool2d(kernel_size=2, stride=2)\n",
    "        )\n",
    "        self.c5 = nn.Sequential(\n",
    "            nn.Conv2d(16, 120, kernel_size=5),\n",
    "            nn.ReLU()\n",
    "        )\n",
    "        self.fc1 = nn.Sequential(\n",
    "            nn.Linear(120, 84),\n",
    "            nn.ReLU()\n",
    "        )\n",
    "        self.fc2 = nn.Linear(84, num_classes)\n",
    "        \n",
    "    def forward(self, x):\n",
    "        x = self.c1(x)\n",
    "        x = self.c3(x)\n",
    "        x = self.c5(x)\n",
    "        x = x.view(x.size(0), -1)\n",
    "        x = self.fc1(x)\n",
    "        x = self.fc2(x)\n",
    "        return x\n",
    "\n",
    "model = LeNet5(num_classes=10).to(device)\n"
   ]
  },
  {
   "cell_type": "code",
   "execution_count": 34,
   "id": "a1bd3caf-a86e-463e-9171-1c86f4701ecd",
   "metadata": {
    "tags": []
   },
   "outputs": [
    {
     "name": "stdout",
     "output_type": "stream",
     "text": [
      "Epoch [1/5], Step [100/600], Loss: 0.2624\n",
      "Epoch [1/5], Step [200/600], Loss: 0.2394\n",
      "Epoch [1/5], Step [300/600], Loss: 0.3056\n",
      "Epoch [1/5], Step [400/600], Loss: 0.1497\n",
      "Epoch [1/5], Step [500/600], Loss: 0.1969\n",
      "Epoch [1/5], Step [600/600], Loss: 0.0541\n",
      "Epoch [2/5], Step [100/600], Loss: 0.0801\n",
      "Epoch [2/5], Step [200/600], Loss: 0.1554\n",
      "Epoch [2/5], Step [300/600], Loss: 0.0625\n",
      "Epoch [2/5], Step [400/600], Loss: 0.1016\n",
      "Epoch [2/5], Step [500/600], Loss: 0.1608\n",
      "Epoch [2/5], Step [600/600], Loss: 0.0281\n",
      "Epoch [3/5], Step [100/600], Loss: 0.1324\n",
      "Epoch [3/5], Step [200/600], Loss: 0.0626\n",
      "Epoch [3/5], Step [300/600], Loss: 0.1054\n",
      "Epoch [3/5], Step [400/600], Loss: 0.0404\n",
      "Epoch [3/5], Step [500/600], Loss: 0.0260\n",
      "Epoch [3/5], Step [600/600], Loss: 0.0115\n",
      "Epoch [4/5], Step [100/600], Loss: 0.0373\n",
      "Epoch [4/5], Step [200/600], Loss: 0.0414\n",
      "Epoch [4/5], Step [300/600], Loss: 0.0297\n",
      "Epoch [4/5], Step [400/600], Loss: 0.0466\n",
      "Epoch [4/5], Step [500/600], Loss: 0.1017\n",
      "Epoch [4/5], Step [600/600], Loss: 0.0615\n",
      "Epoch [5/5], Step [100/600], Loss: 0.0527\n",
      "Epoch [5/5], Step [200/600], Loss: 0.1514\n",
      "Epoch [5/5], Step [300/600], Loss: 0.0353\n",
      "Epoch [5/5], Step [400/600], Loss: 0.0909\n",
      "Epoch [5/5], Step [500/600], Loss: 0.0106\n",
      "Epoch [5/5], Step [600/600], Loss: 0.0388\n",
      "Test Accuracy of the model on the 10000 test images: 98.53%\n"
     ]
    }
   ],
   "source": [
    "# Initialize model\n",
    "model = LeNet5(num_classes).to(device)\n",
    "\n",
    "# Loss and optimizer\n",
    "criterion = nn.CrossEntropyLoss()\n",
    "optimizer = torch.optim.Adam(model.parameters(), lr=learning_rate)\n",
    "\n",
    "# Train the network\n",
    "total_step = len(train_loader)\n",
    "for epoch in range(num_epochs):\n",
    "    for i, (images, labels) in enumerate(train_loader):\n",
    "        images, labels = images.to(device), labels.to(device)\n",
    "\n",
    "        # Forward pass\n",
    "        outputs = model(images)\n",
    "        loss = criterion(outputs, labels)\n",
    "\n",
    "        # Backward pass and optimization\n",
    "        optimizer.zero_grad()\n",
    "        loss.backward()\n",
    "        optimizer.step()\n",
    "\n",
    "        if (i + 1) % 100 == 0:\n",
    "            print(\n",
    "                f\"Epoch [{epoch+1}/{num_epochs}], Step [{i+1}/{total_step}], Loss: {loss.item():.4f}\"\n",
    "            )\n",
    "\n",
    "# Test the network\n",
    "model.eval()\n",
    "correct = 0\n",
    "total = 0\n",
    "with torch.no_grad():\n",
    "    for images, labels in test_loader:\n",
    "        images, labels = images.to(device), labels.to(device)\n",
    "        outputs = model(images)\n",
    "        _, predicted = torch.max(outputs.data, 1)\n",
    "        total += labels.size(0)\n",
    "        correct += (predicted == labels).sum().item()\n",
    "\n",
    "accuracy = 100 * correct / total\n",
    "print(f\"Test Accuracy of the model on the 10000 test images: {accuracy:.2f}%\")\n",
    "\n",
    "# Save the model checkpoint\n",
    "torch.save(model.state_dict(), \"LeNet-5.ckpt\")"
   ]
  },
  {
   "cell_type": "markdown",
   "id": "be1644b7-08e4-497f-9986-c0639d9f743a",
   "metadata": {},
   "source": [
    "# PLAY ALONE                                                                              \n",
    "    # Experiment with different:                                                                         #\n",
    "    #    - number of hidden layers                                                                       #\n",
    "    #    - size of the filters                                                                           #\n",
    "    #    - activation functions                                                                          #\n",
    "    #    - type of pooling                                                                     "
   ]
  },
  {
   "cell_type": "code",
   "execution_count": 44,
   "id": "fa395471",
   "metadata": {
    "tags": []
   },
   "outputs": [
    {
     "name": "stdout",
     "output_type": "stream",
     "text": [
      "Epoch [1/5], Step [100/600], Loss: 0.4514\n",
      "Epoch [1/5], Step [200/600], Loss: 0.2624\n",
      "Epoch [1/5], Step [300/600], Loss: 0.1916\n",
      "Epoch [1/5], Step [400/600], Loss: 0.1919\n",
      "Epoch [1/5], Step [500/600], Loss: 0.1119\n",
      "Epoch [1/5], Step [600/600], Loss: 0.0845\n",
      "Epoch [2/5], Step [100/600], Loss: 0.0728\n",
      "Epoch [2/5], Step [200/600], Loss: 0.1034\n",
      "Epoch [2/5], Step [300/600], Loss: 0.2336\n",
      "Epoch [2/5], Step [400/600], Loss: 0.0591\n",
      "Epoch [2/5], Step [500/600], Loss: 0.1245\n",
      "Epoch [2/5], Step [600/600], Loss: 0.0740\n",
      "Epoch [3/5], Step [100/600], Loss: 0.0616\n",
      "Epoch [3/5], Step [200/600], Loss: 0.0575\n",
      "Epoch [3/5], Step [300/600], Loss: 0.1013\n",
      "Epoch [3/5], Step [400/600], Loss: 0.0494\n",
      "Epoch [3/5], Step [500/600], Loss: 0.0487\n",
      "Epoch [3/5], Step [600/600], Loss: 0.0557\n",
      "Epoch [4/5], Step [100/600], Loss: 0.0531\n",
      "Epoch [4/5], Step [200/600], Loss: 0.0305\n",
      "Epoch [4/5], Step [300/600], Loss: 0.1249\n",
      "Epoch [4/5], Step [400/600], Loss: 0.1401\n",
      "Epoch [4/5], Step [500/600], Loss: 0.0551\n",
      "Epoch [4/5], Step [600/600], Loss: 0.0632\n",
      "Epoch [5/5], Step [100/600], Loss: 0.0365\n",
      "Epoch [5/5], Step [200/600], Loss: 0.1096\n",
      "Epoch [5/5], Step [300/600], Loss: 0.1168\n",
      "Epoch [5/5], Step [400/600], Loss: 0.0093\n",
      "Epoch [5/5], Step [500/600], Loss: 0.0211\n",
      "Epoch [5/5], Step [600/600], Loss: 0.0470\n",
      "Test Accuracy of the binary classification model: 98.71%\n"
     ]
    }
   ],
   "source": [
    "import torch\n",
    "import torch.nn as nn\n",
    "import torchvision.transforms as transforms\n",
    "import torchvision\n",
    "import matplotlib.pyplot as plt\n",
    "\n",
    "# Device configuration\n",
    "device = torch.device('cuda' if torch.cuda.is_available() else 'cpu')\n",
    "\n",
    "# Load MNIST dataset with data augmentation\n",
    "transform_augmented = transforms.Compose([\n",
    "    transforms.RandomRotation(10),  # Random rotation\n",
    "    transforms.RandomHorizontalFlip(),  # Horizontal flip\n",
    "    transforms.RandomCrop(28, padding=4),  # Découpage aléatoire avec padding\n",
    "    transforms.ToTensor()\n",
    "])\n",
    "\n",
    "train_dataset = torchvision.datasets.MNIST(\n",
    "    root='data/',\n",
    "    train=True,\n",
    "    transform=transform_augmented,\n",
    "    download=True\n",
    ")\n",
    "\n",
    "test_dataset = torchvision.datasets.MNIST(\n",
    "    root='data/',\n",
    "    train=False,\n",
    "    transform=transforms.ToTensor()\n",
    ")\n",
    "\n",
    "train_loader = torch.utils.data.DataLoader(dataset=train_dataset, batch_size=100, shuffle=True)\n",
    "test_loader = torch.utils.data.DataLoader(dataset=test_dataset, batch_size=100, shuffle=False)\n",
    "\n",
    "class ModifiedLeNet5(nn.Module):\n",
    "    def __init__(self, num_classes=1):  # Binary classification (>=5 or <5)\n",
    "        super(ModifiedLeNet5, self).__init__()\n",
    "        self.c1 = nn.Sequential(\n",
    "            nn.Conv2d(1, 10, kernel_size=5, padding=2),  # Increased filters\n",
    "            nn.ReLU(),\n",
    "            nn.MaxPool2d(kernel_size=2, stride=2)\n",
    "        )\n",
    "        self.c3 = nn.Sequential(\n",
    "            nn.Conv2d(10, 20, kernel_size=3),  # Smaller filter size\n",
    "            nn.ReLU(),\n",
    "            nn.AvgPool2d(kernel_size=2, stride=2)  # Changed pooling to Average\n",
    "        )\n",
    "        self.c5 = nn.Sequential(\n",
    "            nn.Conv2d(20, 120, kernel_size=3),\n",
    "            nn.ReLU()\n",
    "        )\n",
    "        \n",
    "        # Dynamically calculate the input size for fc1\n",
    "        with torch.no_grad():\n",
    "            sample_input = torch.randn(1, 1, 28, 28)  # Example MNIST image size\n",
    "            output_size = self.c5(self.c3(self.c1(sample_input))).view(-1).size(0)\n",
    "\n",
    "        self.fc1 = nn.Sequential(\n",
    "            nn.Linear(output_size, 84),\n",
    "            nn.ReLU()\n",
    "        )\n",
    "        self.fc2 = nn.Linear(84, num_classes)\n",
    "        self.sigmoid = nn.Sigmoid()  # For binary output\n",
    "\n",
    "    def forward(self, x):\n",
    "        x = self.c1(x)\n",
    "        x = self.c3(x)\n",
    "        x = self.c5(x)\n",
    "        x = x.view(x.size(0), -1)  # Flatten\n",
    "        x = self.fc1(x)\n",
    "        x = self.fc2(x)\n",
    "        return self.sigmoid(x)  # Binary output between 0 and 1\n",
    "\n",
    "# Initialize model\n",
    "model = ModifiedLeNet5(num_classes=1).to(device)\n",
    "\n",
    "# Loss and optimizer\n",
    "criterion = nn.BCELoss()  # Binary Cross-Entropy Loss\n",
    "optimizer = torch.optim.Adam(model.parameters(), lr=0.001)\n",
    "\n",
    "# Convert labels for binary classification (>=5 -> 1, <5 -> 0)\n",
    "def binary_labels(labels):\n",
    "    return (labels >= 5).float()\n",
    "\n",
    "# Train the network\n",
    "for epoch in range(5):  # Reduced epochs for demonstration\n",
    "    model.train()\n",
    "    for i, (images, labels) in enumerate(train_loader):\n",
    "        images = images.to(device)\n",
    "        labels = binary_labels(labels).to(device).unsqueeze(1)\n",
    "\n",
    "        # Forward pass\n",
    "        outputs = model(images)\n",
    "        loss = criterion(outputs, labels)\n",
    "\n",
    "        # Backward pass and optimization\n",
    "        optimizer.zero_grad()\n",
    "        loss.backward()\n",
    "        optimizer.step()\n",
    "\n",
    "        if (i + 1) % 100 == 0:\n",
    "            print(f\"Epoch [{epoch+1}/5], Step [{i+1}/{len(train_loader)}], Loss: {loss.item():.4f}\")\n",
    "\n",
    "# Test the network\n",
    "model.eval()\n",
    "correct = 0\n",
    "total = 0\n",
    "with torch.no_grad():\n",
    "    for images, labels in test_loader:\n",
    "        images = images.to(device)\n",
    "        labels = binary_labels(labels).to(device).unsqueeze(1)\n",
    "        outputs = model(images)\n",
    "        predicted = (outputs >= 0.5).float()  # Threshold for binary classification\n",
    "        total += labels.size(0)\n",
    "        correct += (predicted == labels).sum().item()\n",
    "\n",
    "accuracy = 100 * correct / total\n",
    "print(f\"Test Accuracy of the binary classification model: {accuracy:.2f}%\")"
   ]
  }
 ],
 "metadata": {
  "kernelspec": {
   "display_name": "Python 3 (ipykernel)",
   "language": "python",
   "name": "python3"
  },
  "language_info": {
   "codemirror_mode": {
    "name": "ipython",
    "version": 3
   },
   "file_extension": ".py",
   "mimetype": "text/x-python",
   "name": "python",
   "nbconvert_exporter": "python",
   "pygments_lexer": "ipython3",
   "version": "3.11.5"
  }
 },
 "nbformat": 4,
 "nbformat_minor": 5
}
